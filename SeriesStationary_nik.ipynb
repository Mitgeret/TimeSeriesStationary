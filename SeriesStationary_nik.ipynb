{
 "cells": [
  {
   "cell_type": "code",
   "execution_count": null,
   "metadata": {},
   "outputs": [],
   "source": [
    "import pandas as pd\n",
    "import numpy as np\n",
    "import matplotlib.pyplot as plt\n",
    "%matplotlib inline\n",
    "from scipy.stats import boxcox\n",
    "from statsmodels.tsa.stattools import adfuller\n",
    "import statsmodels.api as sm\n",
    "import statsmodels.tsa.api as smt"
   ]
  },
  {
   "cell_type": "code",
   "execution_count": null,
   "metadata": {},
   "outputs": [],
   "source": [
    "sales_of_company_x = pd.read_csv(\"Series/monthly-sales-of-company-x-jan-6.csv\")\n",
    "robberies_in_boston = pd.read_csv(\"Series/monthly-boston-armed-robberies-j.csv\")\n",
    "airlines_passengers = pd.read_csv(\"Series/international-airline-passengers.csv\")\n",
    "mean_monthly_temp = pd.read_csv(\"Series/mean-monthly-air-temperature-deg.csv\")\n",
    "dowjones_closing = pd.read_csv(\"Series/weekly-closings-of-the-dowjones-.csv\")\n",
    "female_births = pd.read_csv(\"Series/daily-total-female-births-in-cal.csv\")"
   ]
  },
  {
   "cell_type": "code",
   "execution_count": null,
   "metadata": {},
   "outputs": [],
   "source": [
    "sales_of_company_x"
   ]
  },
  {
   "cell_type": "code",
   "execution_count": null,
   "metadata": {},
   "outputs": [],
   "source": [
    "all_series = {\n",
    "    \"Monthly sales of company X\": sales_of_company_x[\"Count\"],\n",
    "    \"Monthly Boston armed robberies\": robberies_in_boston[\"Count\"],\n",
    "    \"International airline passengers: monthly totals in thousands\": airlines_passengers[\"Count\"],\n",
    "    \"Mean monthly air temperature (Deg. F) Nottingham Castle\": mean_monthly_temp[\"Deg\"],\n",
    "    \"Weekly closings of the Dow-Jones industrial average\": dowjones_closing[\"Close\"],\n",
    "    \"Daily total female births in California\": female_births[\"Count\"]\n",
    "}"
   ]
  },
  {
   "cell_type": "code",
   "execution_count": null,
   "metadata": {},
   "outputs": [],
   "source": [
    "all_series"
   ]
  },
  {
   "cell_type": "code",
   "execution_count": null,
   "metadata": {},
   "outputs": [],
   "source": [
    "with plt.style.context('bmh'):\n",
    "    plt.figure(figsize=(16, 12))\n",
    "    layout = (3, 2)\n",
    "    for i, key in enumerate(all_series.keys()):\n",
    "        x = i % 2\n",
    "        y = int((i - x) / 2)\n",
    "        \n",
    "        ts_ax = plt.subplot2grid(layout, (y, x))\n",
    "        all_series[key].plot(ax=ts_ax, color='blue')\n",
    "        ts_ax.set_title(key)\n",
    "        \n",
    "    plt.tight_layout()"
   ]
  },
  {
   "cell_type": "markdown",
   "metadata": {},
   "source": [
    "Проверяем ряды на стационарность"
   ]
  },
  {
   "cell_type": "markdown",
   "metadata": {},
   "source": [
    "Ищем сезонность"
   ]
  },
  {
   "cell_type": "code",
   "execution_count": null,
   "metadata": {},
   "outputs": [],
   "source": [
    "def plot_ts_and_points(ts, start_point, step):\n",
    "    new_series = [None for i in range(len(ts))]\n",
    "    for i in range(len(ts)):\n",
    "        pos = start_point + step * i\n",
    "        if pos >= len(ts):\n",
    "            break\n",
    "        new_series[pos] = ts[pos]\n",
    "    new_series = pd.Series(new_series)\n",
    "    \n",
    "    with plt.style.context('bmh'):\n",
    "        plt.figure(figsize=(16, 8))\n",
    "        ts_ax = plt.axes()\n",
    "        ts.plot(ax=ts_ax, color='blue')\n",
    "        new_series.plot(ax=ts_ax, style='ro')"
   ]
  },
  {
   "cell_type": "code",
   "execution_count": null,
   "metadata": {
    "scrolled": false
   },
   "outputs": [],
   "source": [
    "plot_ts_and_points(sales_of_company_x['Count'], 2, 4)\n",
    "plot_ts_and_points(robberies_in_boston['Count'], 2, 4)\n",
    "plot_ts_and_points(airlines_passengers['Count'], 2, 4)\n",
    "plot_ts_and_points(mean_monthly_temp['Deg'], 2, 4)\n",
    "plot_ts_and_points(dowjones_closing['Close'], 2, 4)\n",
    "plot_ts_and_points(female_births['Count'], 2, 4)"
   ]
  },
  {
   "cell_type": "markdown",
   "metadata": {},
   "source": [
    "Нормализуем дисперсию"
   ]
  },
  {
   "cell_type": "code",
   "execution_count": null,
   "metadata": {},
   "outputs": [],
   "source": [
    "series1 = boxcox(all_series[\"Monthly sales of company X\"], 0)\n",
    "series2 = boxcox(all_series[\"Monthly Boston armed robberies\"], 0)\n",
    "series3 = boxcox(all_series[\"International airline passengers: monthly totals in thousands\"], 0)\n",
    "series4 = boxcox(all_series[\"Mean monthly air temperature (Deg. F) Nottingham Castle\"], 0)\n",
    "series5 = boxcox(all_series[\"Weekly closings of the Dow-Jones industrial average\"], 0)\n",
    "series6 = boxcox(all_series[\"Daily total female births in California\"], 0)"
   ]
  },
  {
   "cell_type": "code",
   "execution_count": null,
   "metadata": {
    "scrolled": true
   },
   "outputs": [],
   "source": [
    "plt.figure(figsize=(16, 12))\n",
    "plt.subplot(3,2,1)\n",
    "plt.plot(series1, color='blue')\n",
    "plt.title(\"Monthly sales of company X\")\n",
    "plt.subplot(3,2,2)\n",
    "plt.plot(series2, color='blue')\n",
    "plt.title(\"Monthly Boston armed robberies\")\n",
    "plt.subplot(3,2,3)\n",
    "plt.plot(series3, color='blue')\n",
    "plt.title(\"International airline passengers: monthly totals in thousands\")\n",
    "plt.subplot(3,2,4)\n",
    "plt.plot(series4, color='blue')\n",
    "plt.title(\"Mean monthly air temperature (Deg. F) Nottingham Castle\")\n",
    "plt.subplot(3,2,5)\n",
    "plt.plot(series5, color='blue')\n",
    "plt.title(\"Weekly closings of the Dow-Jones industrial average\")\n",
    "plt.subplot(3,2,6)\n",
    "plt.plot(series6, color='blue')\n",
    "plt.title(\"Daily total female births in California\")\n",
    "plt.tight_layout()"
   ]
  },
  {
   "cell_type": "markdown",
   "metadata": {},
   "source": [
    "Дифференцируем"
   ]
  },
  {
   "cell_type": "code",
   "execution_count": null,
   "metadata": {},
   "outputs": [],
   "source": [
    "series1 = np.diff(series1,1)\n",
    "series2 = np.diff(series2,1)\n",
    "series3 = np.diff(series3,1)\n",
    "series4 = np.diff(series4,1)\n",
    "series5 = np.diff(series5,1)\n",
    "series6 = np.diff(series6,1)"
   ]
  },
  {
   "cell_type": "code",
   "execution_count": null,
   "metadata": {},
   "outputs": [],
   "source": [
    "with plt.style.context('bmh'):\n",
    "        plt.figure(figsize=(18, 10))\n",
    "        plt.subplot(3,2,1)\n",
    "        plt.plot(series1, color='blue')\n",
    "        plt.title(\"Monthly sales of company X\")\n",
    "        plt.subplot(322)\n",
    "        plt.plot(series2, color='blue')\n",
    "        plt.title(\"Monthly Boston armed robberies\")\n",
    "        plt.subplot(323)\n",
    "        plt.plot(series3, color='blue')\n",
    "        plt.title(\"International airline passengers: monthly totals in thousands\")\n",
    "        plt.subplot(324)\n",
    "        plt.plot(series4, color='blue')\n",
    "        plt.title(\"Mean monthly air temperature (Deg. F) Nottingham Castle\")\n",
    "        plt.subplot(325)\n",
    "        plt.plot(series5, color='blue')\n",
    "        plt.title(\"Weekly closings of the Dow-Jones industrial average\")\n",
    "        plt.subplot(326)\n",
    "        plt.plot(series6, color='blue')\n",
    "        plt.title(\"Daily total female births in California\")"
   ]
  },
  {
   "cell_type": "markdown",
   "metadata": {},
   "source": [
    "Тест Дики-Фуллера"
   ]
  },
  {
   "cell_type": "code",
   "execution_count": null,
   "metadata": {},
   "outputs": [],
   "source": [
    "def test_stationarity(timeseries):\n",
    "    print('Results of Dickey-Fuller Test:')\n",
    "    dftest = adfuller(timeseries, autolag='AIC')\n",
    "    dfoutput = pd.Series(dftest[0:4], index=['Test Statistic', 'p-value', '#Lags Used', 'Number of Observations Used'])\n",
    "    for [key, value] in dftest[4].items():\n",
    "        dfoutput['Critical Value (%s)' % key] = value\n",
    "    print(dfoutput)"
   ]
  },
  {
   "cell_type": "markdown",
   "metadata": {},
   "source": [
    "1. Согласно тесту Дики-Фуллера первый ряд \"Monthly sales of company X\" и второй ряд \"Monthly Boston armed robberies\" стационарны, о чем свидетельствует p-value < 2.5% и значение близкое к нулю соответственно\n",
    "2. Ряд \"International airline passengers: monthly totals in thousands\" не является стационарным на основе p-value более 7%\n",
    "3. Ряды \"Mean monthly air temperature (Deg. F) Nottingham Castle\", \"Weekly closings of the Dow-Jones industrial average\", \"Daily total female births in California\" на основе p-value практически равным 0 являются стационарными."
   ]
  },
  {
   "cell_type": "markdown",
   "metadata": {},
   "source": [
    "Коррелограммы"
   ]
  },
  {
   "cell_type": "code",
   "execution_count": null,
   "metadata": {},
   "outputs": [],
   "source": [
    "def tsplot(y, lags=None, figsize=(14, 8), style='bmh'):\n",
    "    if not isinstance(y, pd.Series):\n",
    "        y = pd.Series(y)\n",
    "    with plt.style.context(style):\n",
    "        plt.figure(figsize=figsize)\n",
    "        layout = (4, 1)\n",
    "        ts_ax = plt.subplot2grid(layout, (0, 0), rowspan=2)\n",
    "        acf_ax = plt.subplot2grid(layout, (2, 0))\n",
    "        pacf_ax = plt.subplot2grid(layout, (3, 0))\n",
    "\n",
    "        y.plot(ax=ts_ax, color='blue', label='Or')\n",
    "        ts_ax.set_title('Original')\n",
    "\n",
    "        smt.graphics.plot_acf(y, lags=lags, ax=acf_ax, alpha=0.05)\n",
    "        smt.graphics.plot_pacf(y, lags=lags, ax=pacf_ax, alpha=0.05)\n",
    "\n",
    "        plt.tight_layout()\n",
    "    return"
   ]
  },
  {
   "cell_type": "code",
   "execution_count": null,
   "metadata": {},
   "outputs": [],
   "source": [
    "print(\"Monthly sales of company X\")\n",
    "tsplot(series1)\n",
    "tsplot(all_series[\"Monthly Boston armed robberies\"])"
   ]
  },
  {
   "cell_type": "code",
   "execution_count": null,
   "metadata": {},
   "outputs": [],
   "source": [
    "print(\"Monthly Boston armed robberies\")\n",
    "tsplot(series2)\n",
    "tsplot(all_series[\"Monthly Boston armed robberies\"])"
   ]
  },
  {
   "cell_type": "code",
   "execution_count": null,
   "metadata": {},
   "outputs": [],
   "source": [
    "print(\"International airline passengers: monthly totals in thousands\")\n",
    "tsplot(series3)\n",
    "tsplot(all_series[\"International airline passengers: monthly totals in thousands\"])"
   ]
  },
  {
   "cell_type": "code",
   "execution_count": null,
   "metadata": {},
   "outputs": [],
   "source": [
    "print(\"Mean monthly air temperature (Deg. F) Nottingham Castle\")\n",
    "tsplot(series4)\n",
    "tsplot(all_series[\"Mean monthly air temperature (Deg. F) Nottingham Castle\"])"
   ]
  },
  {
   "cell_type": "code",
   "execution_count": null,
   "metadata": {},
   "outputs": [],
   "source": [
    "print(\"Weekly closings of the Dow-Jones industrial average\")\n",
    "tsplot(series5)\n",
    "tsplot(all_series[\"Weekly closings of the Dow-Jones industrial average\"])"
   ]
  },
  {
   "cell_type": "code",
   "execution_count": null,
   "metadata": {},
   "outputs": [],
   "source": [
    "print(\"Daily total female births in California\")\n",
    "tsplot(series6)\n",
    "tsplot(all_series[\"Daily total female births in California\"])"
   ]
  }
 ],
 "metadata": {
  "kernelspec": {
   "display_name": "Python 3",
   "language": "python",
   "name": "python3"
  },
  "language_info": {
   "codemirror_mode": {
    "name": "ipython",
    "version": 3
   },
   "file_extension": ".py",
   "mimetype": "text/x-python",
   "name": "python",
   "nbconvert_exporter": "python",
   "pygments_lexer": "ipython3",
   "version": "3.8.5"
  }
 },
 "nbformat": 4,
 "nbformat_minor": 4
}
